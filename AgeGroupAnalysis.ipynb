{
 "cells": [
  {
   "cell_type": "code",
   "execution_count": null,
   "id": "2c49ae59-ce65-4778-a789-fa44b60cc34c",
   "metadata": {},
   "outputs": [],
   "source": [
    "import matplotlib.pyplot as plt\n",
    "import seaborn as sns\n",
    "import pandas as pd\n",
    "import numpy as np\n",
    "import scipy"
   ]
  },
  {
   "cell_type": "code",
   "execution_count": null,
   "id": "ca59c166-e793-4f70-8733-b277d1ba1180",
   "metadata": {},
   "outputs": [],
   "source": [
    "#Load the datasets\n",
    "df1 = 'Datasets/mental_health_and_technology_usage_2024.csv'\n",
    "\n",
    "data = pd.read_csv(df1)"
   ]
  },
  {
   "cell_type": "code",
   "execution_count": null,
   "id": "12558a4a-2b43-4d00-8083-1651ee77cba6",
   "metadata": {},
   "outputs": [],
   "source": [
    "#Display basic info from the dataset\n",
    "print(data.head)\n",
    "\n",
    "print(data.columns)"
   ]
  },
  {
   "cell_type": "code",
   "execution_count": null,
   "id": "f1e19b4a-6269-459b-8064-b4206c77a9e6",
   "metadata": {},
   "outputs": [],
   "source": [
    "# Define the age bins and corresponding labels\n",
    "age_bins = [18, 35, 50, 65]  # Bin edges for ages: 18 to 35, 36 to 50, 51 to 65\n",
    "age_labels = ['18-35', '36-50', '51-65']  # Labels for each bin\n",
    "\n",
    "# Apply pd.cut() to create the 'Age_Group' column in the dataset\n",
    "data['Age_Group'] = pd.cut(data['Age'], bins=age_bins, labels=age_labels, right=False)"
   ]
  },
  {
   "cell_type": "code",
   "execution_count": null,
   "id": "87859c66-0934-47be-b705-d89176dc65b3",
   "metadata": {},
   "outputs": [],
   "source": [
    "import matplotlib.pyplot as plt\n",
    "import seaborn as sns\n",
    "\n",
    "# Prepare a figure with 3 rows and 2 columns for the plots\n",
    "fig, axes = plt.subplots(3, 2, figsize=(14, 18))\n",
    "fig.suptitle(\"Social Media Usage vs Physical Activity and Sleep Hours by Age Group\", fontsize=16)\n",
    "\n",
    "# Loop through each age group label (e.g., \"18-35\", \"36-50\", \"51-65\")\n",
    "for i, age_group in enumerate(age_labels):\n",
    "    # Filter the dataset to include only rows for the current age group\n",
    "    subset = data[data['Age_Group'] == age_group]\n",
    "    \n",
    "    # Scatter plot for Social Media Usage Hours vs Physical Activity Hours\n",
    "    sns.scatterplot(ax=axes[i, 0], data=subset, x='Social_Media_Usage_Hours', y='Physical_Activity_Hours', alpha=0.5)\n",
    "    axes[i, 0].set_title(f\"{age_group}: Social Media Usage vs Physical Activity Hours\")\n",
    "    axes[i, 0].set_xlabel(\"Social Media Usage Hours\")\n",
    "    axes[i, 0].set_ylabel(\"Physical Activity Hours\")\n",
    "    \n",
    "    # Scatter plot for Social Media Usage Hours vs Sleep Hours\n",
    "    sns.scatterplot(ax=axes[i, 1], data=subset, x='Social_Media_Usage_Hours', y='Sleep_Hours', alpha=0.5)\n",
    "    axes[i, 1].set_title(f\"{age_group}: Social Media Usage vs Sleep Hours\")\n",
    "    axes[i, 1].set_xlabel(\"Social Media Usage Hours\")\n",
    "    axes[i, 1].set_ylabel(\"Sleep Hours\")\n",
    "\n",
    "# Adjust layout for better readability\n",
    "plt.tight_layout(rect=[0, 0.03, 1, 0.95])\n",
    "plt.show()"
   ]
  },
  {
   "cell_type": "code",
   "execution_count": null,
   "id": "cdb4f3ee-a873-4ef8-a963-a228253830a9",
   "metadata": {},
   "outputs": [],
   "source": [
    "# Create a dictionary to store correlation matrices for each age group\n",
    "correlations = {}\n",
    "\n",
    "# Loop through each age group label (e.g., \"18-35\", \"36-50\", \"51-65\")\n",
    "for age_group in age_labels:\n",
    "    # Filter the data to include only rows for the current age group\n",
    "    subset = data[data['Age_Group'] == age_group]\n",
    "    \n",
    "    # Calculate the correlation matrix for Social_Media_Usage_Hours, Physical_Activity_Hours, and Sleep_Hours\n",
    "    correlations[age_group] = subset[['Social_Media_Usage_Hours', 'Physical_Activity_Hours', 'Sleep_Hours']].corr()\n",
    "\n",
    "# Print the correlation coefficients for each age group\n",
    "for age_group, corr_matrix in correlations.items():\n",
    "    print(f\"Correlation matrix for age group {age_group}:\\n\")\n",
    "    print(corr_matrix)\n",
    "    print(\"\\n\" + \"=\"*50 + \"\\n\")  # Separator for readability"
   ]
  },
  {
   "cell_type": "code",
   "execution_count": null,
   "id": "c1cbb1f0-fcf1-47f3-b099-78a6cbe6428d",
   "metadata": {},
   "outputs": [],
   "source": [
    "import seaborn as sns\n",
    "import matplotlib.pyplot as plt\n",
    "\n",
    "# Select the subset of data for the three relevant variables\n",
    "correlation_matrix = data[['Social_Media_Usage_Hours', 'Physical_Activity_Hours', 'Sleep_Hours']].corr()\n",
    "\n",
    "# Plot the heatmap\n",
    "plt.figure(figsize=(6, 4))\n",
    "sns.heatmap(correlation_matrix, annot=True, cmap=\"coolwarm\", vmin=-1, vmax=1, cbar=True, square=True)\n",
    "plt.title(\"Correlation Heatmap: Social Media Usage, Physical Activity, and Sleep Hours\")\n",
    "plt.show()\n"
   ]
  },
  {
   "cell_type": "code",
   "execution_count": null,
   "id": "05590747-09eb-420e-a511-9905041c30d9",
   "metadata": {},
   "outputs": [],
   "source": [
    "# Ensure Pandas and Numpy are imported\n",
    "import pandas as pd\n",
    "import numpy as np\n",
    "\n",
    "# Assume 'data' is your main DataFrame with columns 'Age_Group', 'Stress_Level', 'Mental_Health_Status',\n",
    "# 'Social_Media_Usage_Hours', 'Physical_Activity_Hours', and 'Sleep_Hours'\n",
    "\n",
    "# Map qualitative values to numeric for Stress Level and Mental Health\n",
    "stress_mapping = {'Low': 1, 'Medium': 2, 'High': 3}\n",
    "mental_health_mapping = {'Excellent': 4, 'Good': 3, 'Fair': 2, 'Poor': 1}\n",
    "data['Stress_Level_Numeric'] = data['Stress_Level'].map(stress_mapping)\n",
    "data['Mental_Health_Numeric'] = data['Mental_Health_Status'].map(mental_health_mapping)\n",
    "\n",
    "# Calculate means and standard deviations for each metric by age group\n",
    "summary = data.groupby('Age_Group', observed=False)[\n",
    "    ['Stress_Level_Numeric', 'Mental_Health_Numeric', 'Social_Media_Usage_Hours', 'Physical_Activity_Hours', 'Sleep_Hours']\n",
    "].agg(['mean', 'std']).reset_index()\n",
    "\n",
    "# Separate mean and standard deviation columns into distinct DataFrames for easy plotting\n",
    "summary_mean = summary.xs('mean', level=1, axis=1).copy()\n",
    "summary_std = summary.xs('std', level=1, axis=1).copy()\n",
    "\n",
    "# Rename columns for readability\n",
    "summary_mean.columns = ['Stress_Level_Numeric', 'Mental_Health_Numeric', 'Social_Media_Usage_Hours', 'Physical_Activity_Hours', 'Sleep_Hours']\n",
    "summary_std.columns = ['Stress_Level_Numeric', 'Mental_Health_Numeric', 'Social_Media_Usage_Hours', 'Physical_Activity_Hours', 'Sleep_Hours']\n",
    "\n",
    "# Add Age_Group back to both DataFrames for plotting\n",
    "summary_mean['Age_Group'] = summary['Age_Group']\n",
    "summary_std['Age_Group'] = summary['Age_Group']"
   ]
  },
  {
   "cell_type": "code",
   "execution_count": null,
   "id": "72f6109d-d80b-4781-bb98-227ff9265a76",
   "metadata": {},
   "outputs": [],
   "source": [
    "#Verify Data Creation\n",
    "print(\"summary_mean:\")\n",
    "print(summary_mean.head())\n",
    "print(\"\\nsummary_std:\")\n",
    "print(summary_std.head())"
   ]
  },
  {
   "cell_type": "code",
   "execution_count": null,
   "id": "10550131-fff9-4903-9aa3-376e507d2dd1",
   "metadata": {},
   "outputs": [],
   "source": [
    "import matplotlib.pyplot as plt\n",
    "import numpy as np\n",
    "\n",
    "# Set up data for plotting\n",
    "age_groups = summary_mean['Age_Group']\n",
    "stress_means = summary_mean['Stress_Level_Numeric']\n",
    "stress_std = summary_std['Stress_Level_Numeric']\n",
    "mental_health_means = summary_mean['Mental_Health_Numeric']\n",
    "mental_health_std = summary_std['Mental_Health_Numeric']\n",
    "social_media_means = summary_mean['Social_Media_Usage_Hours']\n",
    "social_media_std = summary_std['Social_Media_Usage_Hours']\n",
    "physical_activity_means = summary_mean['Physical_Activity_Hours']\n",
    "physical_activity_std = summary_std['Physical_Activity_Hours']\n",
    "sleep_means = summary_mean['Sleep_Hours']\n",
    "sleep_std = summary_std['Sleep_Hours']\n",
    "\n",
    "# Plotting Stress Level Analysis with error bars\n",
    "fig, axes = plt.subplots(1, 3, figsize=(18, 6))\n",
    "fig.suptitle(\"Average Stress Level and Related Metrics by Age Group with Standard Deviation Error Bars\", fontsize=16)\n",
    "\n",
    "# Bar plot for average Stress Level by Age Group with error bars\n",
    "axes[0].bar(age_groups, stress_means, yerr=stress_std, capsize=5, color='skyblue')\n",
    "axes[0].set_title(\"Average Stress Level by Age Group\")\n",
    "axes[0].set_ylabel(\"Average Stress Level (1=Low, 3=High)\")\n",
    "\n",
    "# Line plot for Social Media Usage by Age Group with error bars\n",
    "axes[1].errorbar(age_groups, social_media_means, yerr=social_media_std, fmt='-o', capsize=5)\n",
    "axes[1].set_title(\"Social Media Usage Hours by Age Group\")\n",
    "axes[1].set_ylabel(\"Average Social Media Usage Hours\")\n",
    "\n",
    "# Line plot for Physical Activity and Sleep Hours by Age Group with error bars\n",
    "axes[2].errorbar(age_groups, physical_activity_means, yerr=physical_activity_std, fmt='-o', label=\"Physical Activity Hours\", capsize=5)\n",
    "axes[2].errorbar(age_groups, sleep_means, yerr=sleep_std, fmt='-o', label=\"Sleep Hours\", capsize=5)\n",
    "axes[2].set_title(\"Physical Activity and Sleep Hours by Age Group\")\n",
    "axes[2].set_ylabel(\"Average Hours\")\n",
    "axes[2].legend()\n",
    "\n",
    "plt.tight_layout(rect=[0, 0.03, 1, 0.95])\n",
    "plt.show()\n",
    "\n",
    "# Plotting Mental Health Analysis with error bars\n",
    "fig, axes = plt.subplots(1, 3, figsize=(18, 6))\n",
    "fig.suptitle(\"Average Mental Health Status and Related Metrics by Age Group with Standard Deviation Error Bars\", fontsize=16)\n",
    "\n",
    "# Bar plot for average Mental Health Status by Age Group with error bars\n",
    "axes[0].bar(age_groups, mental_health_means, yerr=mental_health_std, capsize=5, color='salmon')\n",
    "axes[0].set_title(\"Average Mental Health Status by Age Group\")\n",
    "axes[0].set_ylabel(\"Average Mental Health Status (1=Poor, 4=Excellent)\")\n",
    "\n",
    "# Line plot for Social Media Usage by Age Group with error bars\n",
    "axes[1].errorbar(age_groups, social_media_means, yerr=social_media_std, fmt='-o', capsize=5)\n",
    "axes[1].set_title(\"Social Media Usage Hours by Age Group\")\n",
    "axes[1].set_ylabel(\"Average Social Media Usage Hours\")\n",
    "\n",
    "# Line plot for Physical Activity and Sleep Hours by Age Group with error bars\n",
    "axes[2].errorbar(age_groups, physical_activity_means, yerr=physical_activity_std, fmt='-o', label=\"Physical Activity Hours\", capsize=5)\n",
    "axes[2].errorbar(age_groups, sleep_means, yerr=sleep_std, fmt='-o', label=\"Sleep Hours\", capsize=5)\n",
    "axes[2].set_title(\"Physical Activity and Sleep Hours by Age Group\")\n",
    "axes[2].set_ylabel(\"Average Hours\")\n",
    "axes[2].legend()\n",
    "\n",
    "plt.tight_layout(rect=[0, 0.03, 1, 0.95])\n",
    "plt.show()\n"
   ]
  },
  {
   "cell_type": "code",
   "execution_count": null,
   "id": "8b919268-9639-4405-a9ad-68dd6b2cd96b",
   "metadata": {},
   "outputs": [],
   "source": []
  },
  {
   "cell_type": "code",
   "execution_count": null,
   "id": "cae99411-67a1-4352-861a-72acd7500027",
   "metadata": {},
   "outputs": [],
   "source": []
  },
  {
   "cell_type": "code",
   "execution_count": null,
   "id": "7b71ba04-6f49-40eb-811f-58a887b31dad",
   "metadata": {},
   "outputs": [],
   "source": []
  },
  {
   "cell_type": "code",
   "execution_count": null,
   "id": "7af94628-e40b-4e80-8a1b-a0af6aa8ca5a",
   "metadata": {},
   "outputs": [],
   "source": []
  },
  {
   "cell_type": "code",
   "execution_count": null,
   "id": "37e58ca4-5034-4a32-b3fc-096528b18c85",
   "metadata": {},
   "outputs": [],
   "source": []
  },
  {
   "cell_type": "code",
   "execution_count": null,
   "id": "a7a498e3-2d12-4251-ba08-41410b1cba30",
   "metadata": {},
   "outputs": [],
   "source": []
  },
  {
   "cell_type": "code",
   "execution_count": null,
   "id": "a3a32d9e-44af-4603-a5fa-f108921ddf17",
   "metadata": {},
   "outputs": [],
   "source": []
  },
  {
   "cell_type": "code",
   "execution_count": null,
   "id": "bef81ee6-65b0-464d-b368-4e7fa6f4fe77",
   "metadata": {},
   "outputs": [],
   "source": []
  },
  {
   "cell_type": "code",
   "execution_count": null,
   "id": "8cbe8f26-5576-4f79-95e5-45feaea70d11",
   "metadata": {},
   "outputs": [],
   "source": []
  }
 ],
 "metadata": {
  "kernelspec": {
   "display_name": "Python 3 (ipykernel)",
   "language": "python",
   "name": "python3"
  },
  "language_info": {
   "codemirror_mode": {
    "name": "ipython",
    "version": 3
   },
   "file_extension": ".py",
   "mimetype": "text/x-python",
   "name": "python",
   "nbconvert_exporter": "python",
   "pygments_lexer": "ipython3",
   "version": "3.10.15"
  }
 },
 "nbformat": 4,
 "nbformat_minor": 5
}
